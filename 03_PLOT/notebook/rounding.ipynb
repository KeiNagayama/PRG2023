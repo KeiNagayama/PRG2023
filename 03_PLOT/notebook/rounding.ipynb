{
 "cells": [
  {
   "attachments": {},
   "cell_type": "markdown",
   "metadata": {},
   "source": [
    "# 端数処理\n",
    "\n",
    "浮動小数点を整数に変換に関する注意点\n",
    "- 種類：切り捨て, 偶数丸め, 四捨五入, 切り上げ\n",
    "- マイナス値の処理\n",
    "- numpy の丸め は float 型になる\n",
    "\n",
    "| 丸め方 | メソッド | \n",
    "| :-- | :-- |\n",
    "| 0 に近い方へ丸める | `int()`, `format()`, `np.trunc()` | \n",
    "| 偶数丸め | `round()`, `np.round()` | \n",
    "| 小さい方へ丸める | `math.floor()`, `np.floor()` | \n",
    "| 大きい方へ丸める |`math.ceil()`, `np.ceil()`| "
   ]
  },
  {
   "cell_type": "code",
   "execution_count": 1,
   "metadata": {},
   "outputs": [
    {
     "name": "stdout",
     "output_type": "stream",
     "text": [
      "int(-1.5)=-1, -1.5:.0f=-2, round(-1.5)=-2, math.floor(-1.5)=-2, math.ceil(-1.5)=-1\n",
      "int(-0.5)=0, -0.5:.0f=-0, round(-0.5)=0, math.floor(-0.5)=-1, math.ceil(-0.5)=0\n",
      "int(0.5)=0, 0.5:.0f=0, round(0.5)=0, math.floor(0.5)=0, math.ceil(0.5)=1\n",
      "int(1.5)=1, 1.5:.0f=2, round(1.5)=2, math.floor(1.5)=1, math.ceil(1.5)=2\n",
      "int(2.5)=2, 2.5:.0f=2, round(2.5)=2, math.floor(2.5)=2, math.ceil(2.5)=3\n",
      "int(3.5)=3, 3.5:.0f=4, round(3.5)=4, math.floor(3.5)=3, math.ceil(3.5)=4\n",
      "======= numpy methods ========\n",
      "np.floor(-1.5)=-2.0, np.ceil(-1.5)=-1.0, np.round(-1.5)=-2.0, np.trunc(-1.5)=-1.0\n",
      "np.floor(-0.5)=-1.0, np.ceil(-0.5)=-0.0, np.round(-0.5)=-0.0, np.trunc(-0.5)=-0.0\n",
      "np.floor(0.5)=0.0, np.ceil(0.5)=1.0, np.round(0.5)=0.0, np.trunc(0.5)=0.0\n",
      "np.floor(1.5)=1.0, np.ceil(1.5)=2.0, np.round(1.5)=2.0, np.trunc(1.5)=1.0\n",
      "np.floor(2.5)=2.0, np.ceil(2.5)=3.0, np.round(2.5)=2.0, np.trunc(2.5)=2.0\n",
      "np.floor(3.5)=3.0, np.ceil(3.5)=4.0, np.round(3.5)=4.0, np.trunc(3.5)=3.0\n"
     ]
    }
   ],
   "source": [
    "import math\n",
    "import numpy as np\n",
    "\n",
    "for x in [-1.5, -0.5, 0.5, 1.5, 2.5, 3.5]:\n",
    "    print(f'int({x})={int(x)}', end=', ')\n",
    "    print(f'{x}:.0f={x:.0f}', end=', ')\n",
    "    print(f'round({x})={round(x)}', end=', ')\n",
    "    print(f'math.floor({x})={math.floor(x)}', end=', ')\n",
    "    print(f'math.ceil({x})={math.ceil(x)}', end='\\n')\n",
    "\n",
    "print(' numpy methods '.center(30, '='))\n",
    "\n",
    "for x in [-1.5, -0.5, 0.5, 1.5, 2.5, 3.5]:\n",
    "    print(f'np.floor({x})={np.floor(x)}', end=', ')\n",
    "    print(f'np.ceil({x})={np.ceil(x)}', end=', ')\n",
    "    print(f'np.round({x})={np.round(x)}', end=', ')\n",
    "    print(f'np.trunc({x})={np.trunc(x)}', end='\\n')"
   ]
  }
 ],
 "metadata": {
  "kernelspec": {
   "display_name": "Python 3",
   "language": "python",
   "name": "python3"
  },
  "language_info": {
   "codemirror_mode": {
    "name": "ipython",
    "version": 3
   },
   "file_extension": ".py",
   "mimetype": "text/x-python",
   "name": "python",
   "nbconvert_exporter": "python",
   "pygments_lexer": "ipython3",
   "version": "3.8.1"
  },
  "orig_nbformat": 4
 },
 "nbformat": 4,
 "nbformat_minor": 2
}
